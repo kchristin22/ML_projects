{
 "cells": [
  {
   "attachments": {},
   "cell_type": "markdown",
   "metadata": {
    "id": "eDrcOVDGnyDI"
   },
   "source": [
    "## About iPython Notebooks ##\n",
    "\n",
    "iPython Notebooks are interactive coding environments embedded in a webpage. You will be using iPython notebooks in this class. Make sure you fill in any place that says `# BEGIN SOLUTION #END CODE HERE` searching for the missing parts (usually denoted with `...`). After writing your code, you can run the cell by either pressing \"SHIFT\"+\"ENTER\" or by clicking on \"Run\" (denoted by a play symbol). Before you turn this problem in, make sure everything runs as expected. First, **restart the kernel** (in the menubar, select Kernel$\\rightarrow$Restart) and then **run all cells** (in the menubar, select Cell$\\rightarrow$Run All). \n",
    "\n",
    " **What you need to remember:**\n",
    "\n",
    "- Run your cells using SHIFT+ENTER (or \"Run cell\")\n",
    "- Write code in the designated areas using Python 3 only\n",
    "- Do not modify the code outside of the designated areas\n",
    "- In some cases you will also need to explain the results. There will also be designated areas for that. \n",
    "\n",
    "Fill in your **NAME** and **AEM** below:"
   ]
  },
  {
   "cell_type": "code",
   "execution_count": 1,
   "metadata": {
    "id": "JEJWwHpJnyDK",
    "ExecuteTime": {
     "start_time": "2023-05-24T18:38:52.048943Z",
     "end_time": "2023-05-24T18:38:52.050859Z"
    }
   },
   "outputs": [],
   "source": [
    "NAME = \"Christina Koutsou\"\n",
    "AEM = \"9994(ECE)\""
   ]
  },
  {
   "cell_type": "markdown",
   "metadata": {
    "id": "QRgauGbInyDM"
   },
   "source": [
    "---"
   ]
  },
  {
   "cell_type": "markdown",
   "metadata": {
    "deletable": false,
    "editable": false,
    "id": "_FF68cfznyDO",
    "nbgrader": {
     "cell_type": "markdown",
     "checksum": "ce63642cafb413e7903d83d2f2cd3637",
     "grade": false,
     "grade_id": "cell-f62db6dce1ed3f2e",
     "locked": true,
     "schema_version": 3,
     "solution": false,
     "task": false
    }
   },
   "source": [
    "# Assignment 2 - Decision Trees #"
   ]
  },
  {
   "cell_type": "markdown",
   "metadata": {
    "deletable": false,
    "editable": false,
    "id": "zq29ctnanyDO",
    "nbgrader": {
     "cell_type": "markdown",
     "checksum": "29d61ce286fdb8fd61c7f8e89a9e1339",
     "grade": false,
     "grade_id": "cell-dce2e73cee9a5017",
     "locked": true,
     "schema_version": 3,
     "solution": false,
     "task": false
    }
   },
   "source": [
    "Welcome to your second assignment. This exercise gives you an introduction to [scikit-learn](https://scikit-learn.org/stable/). A simple but efficient machine learning library in Python. It also gives you a wide understanding on how decision trees work. "
   ]
  },
  {
   "cell_type": "markdown",
   "metadata": {
    "deletable": false,
    "editable": false,
    "id": "mb4Wf4IdnyDP",
    "nbgrader": {
     "cell_type": "markdown",
     "checksum": "50a108d2f1e1a1ee2fde80743c0543fe",
     "grade": false,
     "grade_id": "cell-83ca2b0456fb85db",
     "locked": true,
     "schema_version": 3,
     "solution": false,
     "task": false
    }
   },
   "source": [
    "After this assignment you will:\n",
    "- Be able to use the scikit-learn library and train your own model from scratch.\n",
    "- Be able to train and understand decision trees."
   ]
  },
  {
   "cell_type": "code",
   "execution_count": 2,
   "metadata": {
    "deletable": false,
    "editable": false,
    "id": "sLqpxgvbnyDQ",
    "nbgrader": {
     "cell_type": "code",
     "checksum": "396c39a0797964c378ebb90cf18a29de",
     "grade": false,
     "grade_id": "cell-2cef6d48eea484d8",
     "locked": true,
     "schema_version": 3,
     "solution": false,
     "task": false
    },
    "ExecuteTime": {
     "start_time": "2023-05-24T18:39:00.608691Z",
     "end_time": "2023-05-24T18:39:01.928079Z"
    }
   },
   "outputs": [],
   "source": [
    "# Always run this cell\n",
    "import numpy as np\n",
    "import pandas as pd\n",
    "from sklearn.datasets import load_breast_cancer\n",
    "from sklearn.model_selection import train_test_split\n",
    "from sklearn.tree import DecisionTreeClassifier\n",
    "from sklearn.metrics import f1_score, accuracy_score\n",
    "from sklearn.compose import ColumnTransformer\n",
    "from sklearn.pipeline import Pipeline\n",
    "from sklearn.impute import SimpleImputer\n",
    "from sklearn.preprocessing import OneHotEncoder, OrdinalEncoder\n",
    "\n",
    "# USE THIS RANDOM VARIABLE TO PRODUCE THE SAME RESULTS\n",
    "RANDOM_VARIABLE = 42"
   ]
  },
  {
   "cell_type": "markdown",
   "metadata": {
    "id": "eLqRTrLTnyDR"
   },
   "source": [
    "## 1. Scikit-Learn and Decision Trees ##\n",
    "\n",
    "You are going to use the scikit-learn library to train a model for detecting breast cancer using the [Breast cancer wisconsin (diagnostic) dataset](https://scikit-learn.org/stable/modules/generated/sklearn.datasets.load_breast_cancer.html#sklearn.datasets.load_breast_cancer) by training a model using [decision trees](https://scikit-learn.org/stable/modules/tree.html)."
   ]
  },
  {
   "cell_type": "markdown",
   "metadata": {
    "id": "b7d5K-BdnyDS"
   },
   "source": [
    "**1.1** Load the breast cancer dataset using the scikit learn library. From variable *cdata*, you should export the *X* and *y*, from the *data* and *target* variables of the variable *cdata*, respectively, and the feature names and target names from the variables *feature_names* and *target_names*, respectively. Convert the latter two (feature names and target names) into lists. Thus, X and y should be numpy arrays, and feature_names and target_names should be lists. Then split the dataset into train and test set using the appropriate function. Use 33% of the dataset as the test set. Define as X the attributes and as y the target values. Do not forget to set the random_state parameter as the *RANDOM_VARIABLE* defined above. Use this variable for all the random_state parameters in this assignment."
   ]
  },
  {
   "cell_type": "code",
   "execution_count": 17,
   "metadata": {
    "deletable": false,
    "id": "NfF54h6anyDS",
    "nbgrader": {
     "cell_type": "code",
     "checksum": "4b873328ea05f6ef9c08827168c7b835",
     "grade": false,
     "grade_id": "cell-1f0c2f3918333cf6",
     "locked": false,
     "schema_version": 3,
     "solution": true,
     "task": false
    },
    "ExecuteTime": {
     "start_time": "2023-05-24T18:45:00.940891Z",
     "end_time": "2023-05-24T18:45:00.988673Z"
    }
   },
   "outputs": [],
   "source": [
    "cdata = load_breast_cancer(as_frame=True)\n",
    "\n",
    "# BEGIN SOLUTION\n",
    "X = cdata.data.values\n",
    "y = cdata.target.values\n",
    "feature_names = list(cdata.data.columns)\n",
    "target_names = list(cdata.target_names)\n",
    "X_train, X_test, y_train, y_test = train_test_split(X, y, test_size=0.33, random_state=RANDOM_VARIABLE)\n",
    "\n",
    "# END CODE HERE"
   ]
  },
  {
   "cell_type": "code",
   "execution_count": 4,
   "metadata": {
    "colab": {
     "base_uri": "https://localhost:8080/"
    },
    "deletable": false,
    "editable": false,
    "id": "FiOtzHkpnyDT",
    "nbgrader": {
     "cell_type": "code",
     "checksum": "3603b2ba8916ffdad9e9c53f31546b4c",
     "grade": true,
     "grade_id": "cell-3f43c895ceaf57a9",
     "locked": true,
     "points": 2,
     "schema_version": 3,
     "solution": false,
     "task": false
    },
    "outputId": "628bb47c-6506-4259-94e0-b41e82b1ac4f",
    "ExecuteTime": {
     "start_time": "2023-05-24T18:39:28.613949Z",
     "end_time": "2023-05-24T18:39:28.692510Z"
    }
   },
   "outputs": [
    {
     "name": "stdout",
     "output_type": "stream",
     "text": [
      "Type of X: <class 'numpy.ndarray'>\n",
      "Type of y: <class 'numpy.ndarray'>\n",
      "Type of feature_names: <class 'list'>\n",
      "Type of target_names: <class 'list'>\n",
      "Size of train set: 381\n",
      "Size of test set: 188\n",
      "Unique classes: 2\n"
     ]
    }
   ],
   "source": [
    "print(\"Type of X: {}\".format(type(X)))\n",
    "print(\"Type of y: {}\".format(type(y)))\n",
    "print(\"Type of feature_names: {}\".format(type(feature_names)))\n",
    "print(\"Type of target_names: {}\".format(type(target_names)))\n",
    "print(\"Size of train set: {}\".format(len(y_train)))\n",
    "print(\"Size of test set: {}\".format(len(y_test)))\n",
    "print(\"Unique classes: {}\".format(len(set(y_test))))"
   ]
  },
  {
   "cell_type": "markdown",
   "metadata": {
    "deletable": false,
    "editable": false,
    "id": "JuW_lKVFnyDU",
    "nbgrader": {
     "cell_type": "markdown",
     "checksum": "62285a7bd3ab59718b89f7e09de0fea4",
     "grade": false,
     "grade_id": "cell-1ce621a108e76a15",
     "locked": true,
     "schema_version": 3,
     "solution": false,
     "task": false
    }
   },
   "source": [
    "**Expected output**:  \n",
    "\n",
    "```\n",
    "Type of X: <class 'numpy.ndarray'>\n",
    "Type of y: <class 'numpy.ndarray'>\n",
    "Type of feature_names: <class 'list'>\n",
    "Type of target_names: <class 'list'>\n",
    "Size of train set: 381\n",
    "Size of test set: 188\n",
    "Unique classes: 2\n",
    "```\n",
    "\n"
   ]
  },
  {
   "cell_type": "markdown",
   "metadata": {
    "id": "GUB8sl0NnyDV"
   },
   "source": [
    "**1.2** Train two DecisionTree classifiers and report the F1 score. Use the information gain for the one classifier and the Gini impurity for the other, set the *max_depth* to 3, and do not forget to use the *RANDOM_VARIABLE*, as it is crucial for the following part."
   ]
  },
  {
   "cell_type": "code",
   "execution_count": 14,
   "metadata": {
    "deletable": false,
    "id": "nPQFaOhLnyDW",
    "nbgrader": {
     "cell_type": "code",
     "checksum": "17197b62614427a979fcbab7ed2734dd",
     "grade": false,
     "grade_id": "cell-a7fa1d29509eb2a1",
     "locked": false,
     "schema_version": 3,
     "solution": true,
     "task": false
    },
    "ExecuteTime": {
     "start_time": "2023-05-24T18:44:39.998223Z",
     "end_time": "2023-05-24T18:44:40.013071Z"
    }
   },
   "outputs": [],
   "source": [
    "from sklearn.tree import DecisionTreeClassifier\n",
    "from sklearn.metrics import f1_score\n",
    "\n",
    "# Create two DecisionTree classifiers with different impurity measures\n",
    "classifier_gini = DecisionTreeClassifier(criterion='gini', max_depth=3, random_state=RANDOM_VARIABLE)\n",
    "classifier_igain = DecisionTreeClassifier(criterion='entropy', max_depth=3, random_state=RANDOM_VARIABLE)\n",
    "\n",
    "# Train the classifiers on your training data\n",
    "classifier_gini.fit(X_train, y_train)\n",
    "classifier_igain.fit(X_train, y_train)\n",
    "\n",
    "# Perform predictions on your test data\n",
    "prediction_gini = classifier_gini.predict(X_test)\n",
    "prediction_igain = classifier_igain.predict(X_test)\n",
    "\n",
    "# Evaluate using F1 score\n",
    "f_measure_gini = f1_score(y_test, prediction_gini)\n",
    "f_measure_igain = f1_score(y_test, prediction_igain)"
   ]
  },
  {
   "cell_type": "code",
   "execution_count": 6,
   "metadata": {
    "colab": {
     "base_uri": "https://localhost:8080/"
    },
    "deletable": false,
    "editable": false,
    "id": "qToIpGtnnyDX",
    "nbgrader": {
     "cell_type": "code",
     "checksum": "6d9aab4355c27c346f7e6548f233e758",
     "grade": true,
     "grade_id": "cell-09657a82bf4028c4",
     "locked": true,
     "points": 3,
     "schema_version": 3,
     "solution": false,
     "task": false
    },
    "outputId": "686a16c8-9228-49b1-febd-b3eba7ee9ce3",
    "ExecuteTime": {
     "start_time": "2023-05-24T18:39:44.446297Z",
     "end_time": "2023-05-24T18:39:44.467670Z"
    }
   },
   "outputs": [
    {
     "name": "stdout",
     "output_type": "stream",
     "text": [
      "F-Measure Gini: 0.9663865546218487\n",
      "F-Measure Information Gain: 0.979591836734694\n"
     ]
    }
   ],
   "source": [
    "print(\"F-Measure Gini: {}\".format(f_measure_gini))\n",
    "print(\"F-Measure Information Gain: {}\".format(f_measure_igain))"
   ]
  },
  {
   "cell_type": "markdown",
   "metadata": {
    "deletable": false,
    "editable": false,
    "id": "hn9nblQ5nyDY",
    "nbgrader": {
     "cell_type": "markdown",
     "checksum": "f3facbbef0dd8f25ad12bfec7c174818",
     "grade": false,
     "grade_id": "cell-b0d8630f3b764cf3",
     "locked": true,
     "schema_version": 3,
     "solution": false,
     "task": false
    }
   },
   "source": [
    "**Expected output**:\n",
    "\n",
    "```\n",
    "F-Measure Gini: 0.9663865546218487\n",
    "F-Measure Information Gain: 0.979591836734694\n",
    "```"
   ]
  },
  {
   "cell_type": "markdown",
   "metadata": {
    "id": "tXYJRWnSpxOB"
   },
   "source": [
    "**1.3** In this part, you are going to explore one of the trained decision trees visually. We will use the *classifier_igain* and the function *export_graphviz* to plot the decision tree. You should fill in the missing parts of the functions parameters, which correspond to the decision tree model, the feature names and the target names.\n"
   ]
  },
  {
   "cell_type": "code",
   "execution_count": 7,
   "metadata": {
    "colab": {
     "base_uri": "https://localhost:8080/",
     "height": 594
    },
    "id": "izqLl_7Hpwm_",
    "outputId": "883f5360-5a7b-4e63-c85e-b6e240c4625a",
    "ExecuteTime": {
     "start_time": "2023-05-24T18:40:09.641606Z",
     "end_time": "2023-05-24T18:40:09.762116Z"
    }
   },
   "outputs": [
    {
     "data": {
      "image/png": "[encoded data removed]",
      "text/plain": "<IPython.core.display.Image object>"
     },
     "execution_count": 7,
     "metadata": {},
     "output_type": "execute_result"
    }
   ],
   "source": [
    "# Let's see how our tree looks\n",
    "from sklearn.tree import export_graphviz\n",
    "from IPython.display import Image\n",
    "from subprocess import call\n",
    "\n",
    "# BEGIN SOLUTION\n",
    "export_graphviz(\n",
    "        classifier_igain, # decision tree\n",
    "        feature_names= feature_names,\n",
    "        class_names = target_names, # need to specify the parameters as they're not in the correct order\n",
    "        out_file=\"dtree.dot\", \n",
    "        rounded=True,\n",
    "        filled=True\n",
    "    )\n",
    "# END CODE HERE\n",
    "\n",
    "call(['dot', '-Tpng', 'dtree.dot', '-o', 'dtree.png', '-Gdpi=96'])\n",
    "Image(filename = 'dtree.png')"
   ]
  },
  {
   "cell_type": "markdown",
   "metadata": {
    "id": "FLlmqVVf5AwM"
   },
   "source": [
    "**1.4** Now, we will examine two random instances (7th and 136th). Thus, we are presenting the decision tree's predictions for these instances, and the ground truth values. Moreover, for each instance, we print the feature values. However, as we can see from the plot above, only 6 features out of the 30 are being used by the tree. Thus, in order to print less information, we will use the *feature_importances_* variable of our tree to check which features has 0 importance to skip them."
   ]
  },
  {
   "cell_type": "code",
   "execution_count": 8,
   "metadata": {
    "colab": {
     "base_uri": "https://localhost:8080/"
    },
    "id": "Z0qLU7KLsMfx",
    "outputId": "5f81281c-55bf-41f8-be4a-ebff48063fda",
    "ExecuteTime": {
     "start_time": "2023-05-24T18:42:02.404603Z",
     "end_time": "2023-05-24T18:42:02.436108Z"
    }
   },
   "outputs": [
    {
     "name": "stdout",
     "output_type": "stream",
     "text": [
      "7th instance a was classified as: malignant while the ground truth was: malignant\n",
      "\tmean texture: 15.05\n",
      "\tmean concave points: 0.07953\n",
      "\tarea error: 61.1\n",
      "\tworst radius: 20.01\n",
      "\tworst texture: 19.52\n",
      "\tworst perimeter: 134.9\n",
      "\n",
      "\n",
      "136th instance a was classified as: malignant while the ground truth was: benign\n",
      "\tmean texture: 18.89\n",
      "\tmean concave points: 0.05381\n",
      "\tarea error: 19.29\n",
      "\tworst radius: 14.8\n",
      "\tworst texture: 27.2\n",
      "\tworst perimeter: 97.33\n",
      "\n",
      "\n"
     ]
    }
   ],
   "source": [
    "instance_a = 7\n",
    "instance_b = 136\n",
    "for instance in [instance_a, instance_b]:\n",
    "  print(str(instance)+ 'th instance a was classified as: ' +target_names[prediction_igain[instance]] +' while the ground truth was: ' + target_names[y_test[instance]])\n",
    "  # BEGIN SOLUTION\n",
    "  for idf, feature_name in enumerate(feature_names):\n",
    "    if classifier_igain.feature_importances_[idf] != 0:\n",
    "      print('\\t'+feature_name+\": \"+str(X_test[instance][idf]))\n",
    "  # END CODE HERE\n",
    "  print('\\n')"
   ]
  },
  {
   "cell_type": "markdown",
   "metadata": {
    "id": "aSPh8Z1Ilmq4"
   },
   "source": [
    "**Expected output**:\n",
    "\n",
    "```\n",
    "7th instance a was classified as: malignant while the ground truth was: malignant\n",
    "\tmean texture: 15.05\n",
    "\tmean concave points: 0.07953\n",
    "\tarea error: 61.1\n",
    "\tworst radius: 20.01\n",
    "\tworst texture: 19.52\n",
    "\tworst perimeter: 134.9\n",
    "\n",
    "\n",
    "136th instance a was classified as: malignant while the ground truth was: benign\n",
    "\tmean texture: 18.89\n",
    "\tmean concave points: 0.05381\n",
    "\tarea error: 19.29\n",
    "\tworst radius: 14.8\n",
    "\tworst texture: 27.2\n",
    "\tworst perimeter: 97.33\n",
    "```\n",
    "\n"
   ]
  },
  {
   "attachments": {},
   "cell_type": "markdown",
   "metadata": {
    "id": "JHE-wOx77DBq"
   },
   "source": [
    "**1.6** Based on the aforementioned information, and the plotted decision tree, identify one feature value that if changed in each instance, the predicted class will change as well. Specifically, you should find a feature value change that will be small. Answer in the following cell, either with code, or/and writing a small paragraph explaining the feature, the change and why the decision will change."
   ]
  },
  {
   "cell_type": "code",
   "execution_count": 13,
   "metadata": {
    "id": "MvrW8zQStBTm",
    "ExecuteTime": {
     "start_time": "2023-05-24T18:44:30.733474Z",
     "end_time": "2023-05-24T18:44:30.741516Z"
    }
   },
   "outputs": [
    {
     "name": "stdout",
     "output_type": "stream",
     "text": [
      "The new predicted class of the 7th instance is: benign\n",
      "The new predicted class of the 136th instance is: benign\n"
     ]
    }
   ],
   "source": [
    "# BEGIN SOLUTION\n",
    "iteration = 1\n",
    "for idf, feature_name in enumerate(feature_names):\n",
    "    if classifier_igain.feature_importances_[idf] != 0:\n",
    "        if iteration == 2:     # identify the mean concave points feature id\n",
    "            break\n",
    "        else:\n",
    "            iteration = iteration + 1\n",
    "for instance in [instance_a, instance_b]:\n",
    "    X_test[instance][idf] = 0.05   # set the value below 0.051\n",
    "    prediction = classifier_igain.predict(X_test)\n",
    "    print(\"The new predicted class of the \" + str(instance) +\"th instance is: \" + target_names[prediction[instance]])\n",
    "\n",
    "# END CODE HERE"
   ]
  },
  {
   "cell_type": "markdown",
   "metadata": {
    "id": "nL7ZSLuelyu7"
   },
   "source": [
    "or/and"
   ]
  },
  {
   "cell_type": "markdown",
   "metadata": {
    "id": "h2speZex827U"
   },
   "source": [
    "We observe the decision tree and the paths that each instance follows. The only feature that is part of the decision path of both instances is the 'mean concave points' feature. Since this feature's value is over 0.051 (the decision threshold) for both instances, we assign a new value to it, below 0.051, for each instance to alter their path. The predicted class has now changed and that can also be confirmed with the use of the plotted decision tree.\n"
   ]
  },
  {
   "cell_type": "markdown",
   "metadata": {
    "deletable": false,
    "editable": false,
    "id": "31Iyi9SJnyDZ",
    "nbgrader": {
     "cell_type": "markdown",
     "checksum": "f2532168d16e8c9bffba3d7d8e1efce7",
     "grade": false,
     "grade_id": "cell-591ba122016b6db5",
     "locked": true,
     "schema_version": 3,
     "solution": false,
     "task": false
    }
   },
   "source": [
    "**1.7** Train multiple classifiers by modifying the max_depth within the range from 1 to 8 and save the f1 scores to the corresponding list of the *fscores* dictionary (one list for training set and one for test set). Before appending the scores to the corresponding list, multiply them by 100, and round the values to 2 decimals."
   ]
  },
  {
   "cell_type": "code",
   "execution_count": 18,
   "metadata": {
    "deletable": false,
    "id": "U7gSfRu_nyDa",
    "nbgrader": {
     "cell_type": "code",
     "checksum": "54cf257e90a3cb5877db81297bedd45c",
     "grade": false,
     "grade_id": "cell-31c58b6161a3907d",
     "locked": false,
     "schema_version": 3,
     "solution": true,
     "task": false
    },
    "ExecuteTime": {
     "start_time": "2023-05-24T18:45:09.202892Z",
     "end_time": "2023-05-24T18:45:09.250966Z"
    }
   },
   "outputs": [],
   "source": [
    "# BEGIN SOLUTION\n",
    "fscores = {'train': [], 'test': []}\n",
    "for depth in range(1,8):\n",
    "    classifier = DecisionTreeClassifier(criterion='gini', max_depth=depth, random_state=RANDOM_VARIABLE)\n",
    "    classifier.fit(X_train, y_train)\n",
    "    predict_depth_train = classifier.predict(X_train)\n",
    "    predict_depth_test = classifier.predict(X_test) # X_test here refers to the original set and not the converted one of cell 1.6\n",
    "    f_depth_train = f1_score(y_train, predict_depth_train)\n",
    "    f_depth_test = f1_score(y_test, predict_depth_test)\n",
    "    fscores['train'].append(round(f_depth_train*100,2))\n",
    "    fscores['test'].append(round(f_depth_test*100,2))\n",
    "# END CODE HERE"
   ]
  },
  {
   "cell_type": "code",
   "execution_count": 19,
   "metadata": {
    "colab": {
     "base_uri": "https://localhost:8080/"
    },
    "deletable": false,
    "editable": false,
    "id": "2395Por-nyDa",
    "nbgrader": {
     "cell_type": "code",
     "checksum": "70a249937f2f690c6ce855debaed204c",
     "grade": true,
     "grade_id": "cell-0c300109423f53b9",
     "locked": true,
     "points": 5,
     "schema_version": 3,
     "solution": false,
     "task": false
    },
    "outputId": "a16ab58d-dac6-427e-9bb6-3d25a919c7b0",
    "ExecuteTime": {
     "start_time": "2023-05-24T18:45:09.894379Z",
     "end_time": "2023-05-24T18:45:09.899783Z"
    }
   },
   "outputs": [
    {
     "name": "stdout",
     "output_type": "stream",
     "text": [
      "Fscores Train: [94.24, 95.46, 97.65, 99.15, 99.37, 99.58, 100.0]\n",
      "Fscores Test:  [91.14, 93.97, 96.64, 94.12, 95.4, 95.04, 93.72]\n"
     ]
    }
   ],
   "source": [
    "print(\"Fscores Train: {}\".format(fscores['train']))\n",
    "print(\"Fscores Test:  {}\".format(fscores['test']))"
   ]
  },
  {
   "cell_type": "markdown",
   "metadata": {
    "deletable": false,
    "editable": false,
    "id": "f37yzYcbnyDb",
    "nbgrader": {
     "cell_type": "markdown",
     "checksum": "3db472d2b9db7a42cc012cd96fdeb499",
     "grade": false,
     "grade_id": "cell-75789627f20d2c94",
     "locked": true,
     "schema_version": 3,
     "solution": false,
     "task": false
    }
   },
   "source": [
    "**Expected output**:  \n",
    "```\n",
    "Fscores Train: [94.24, 95.46, 97.65, 99.15, 99.37, 99.58, 100.0]\n",
    "Fscores Test:  [91.14, 93.97, 96.64, 94.12, 95.4, 95.04, 93.72]\n",
    "```"
   ]
  },
  {
   "attachments": {},
   "cell_type": "markdown",
   "metadata": {
    "deletable": false,
    "editable": false,
    "id": "4stz0V9knyDd",
    "nbgrader": {
     "cell_type": "markdown",
     "checksum": "bca7d4c160c767d27a09b4620d27d56e",
     "grade": false,
     "grade_id": "cell-5906e6d5efa70282",
     "locked": true,
     "schema_version": 3,
     "solution": false,
     "task": false
    }
   },
   "source": [
    "**1.8** Compare the results from the train set with the results from the test set. What do you notice? How are you going to choose the max_depth of your model?"
   ]
  },
  {
   "cell_type": "markdown",
   "metadata": {
    "deletable": false,
    "id": "kwtDaX3JnyDe",
    "nbgrader": {
     "cell_type": "markdown",
     "checksum": "424ac10e4e22ca9e32207deee3bf0f57",
     "grade": true,
     "grade_id": "cell-c9c6ea0e40d98b83",
     "locked": false,
     "points": 5,
     "schema_version": 3,
     "solution": true,
     "task": false
    }
   },
   "source": [
    "As the max depth of the decision tree increases, the F1 scores on the train set also increase. This behavior is expected as the further splitting of the nodes is enabled and the leaf nodes become more and more pure. In contrast, after a certain value of the max depth (>3), the F1 scores start to decrease slightly. This is probably due to overfitting: as the max depth increases, the leaf nodes become more and more specific (meaning corresponding to fewer samples) and, thus, fail to predict other unseen data accurately. Restricting the size of the max depth allows us to fit the model up to a certain point that offers a perfect balance of specific and generic enough to fit it well (have as pure nodes as possible) and apply it to new data with a high likelihood of successful prediction. In this case, the max depth's value that optimizes our model in the aforementioned way is 3."
   ]
  },
  {
   "attachments": {},
   "cell_type": "markdown",
   "metadata": {
    "deletable": false,
    "editable": false,
    "id": "PIw1fVFenyDe",
    "nbgrader": {
     "cell_type": "markdown",
     "checksum": "217666fcc2e383d6f2c1904c9d6a71be",
     "grade": false,
     "grade_id": "cell-9ef42e6c90ea2ffe",
     "locked": true,
     "schema_version": 3,
     "solution": false,
     "task": false
    }
   },
   "source": [
    "## 2.0 Pipelines ##\n",
    "\n",
    "In this part of the exercise you are going to build a pipeline from scratch for a classification problem. Load the **income.csv** file and train a DecisionTree model that will predict the *income* variable. This dataset is a modification of the original Adult Income dataset found [here](http://archive.ics.uci.edu/ml/datasets/Adult). Report the f1-score and accuracy score of the test set found in **income_test.csv**. Your pipeline should be able to handle missing values and categorical features (scikit-learn's decision trees do not handle categorical values). You can preprocess the dataset as you like in order to achieve higher scores.  \n",
    "\n",
    "**2.1** Load the train and test set variables from the files **income.csv** and **income_test.csv**"
   ]
  },
  {
   "cell_type": "code",
   "execution_count": 20,
   "metadata": {
    "id": "7jJW-avitO9E",
    "ExecuteTime": {
     "start_time": "2023-05-24T18:47:51.442719Z",
     "end_time": "2023-05-24T18:47:51.556996Z"
    }
   },
   "outputs": [],
   "source": [
    "# BEGIN SOLUTION\n",
    "train_set = pd.read_csv('income.csv')\n",
    "y_train = train_set['income']\n",
    "\n",
    "test_set = pd.read_csv('income_test.csv')\n",
    "y_test = test_set['income']\n",
    "# End CODE HERE"
   ]
  },
  {
   "cell_type": "markdown",
   "metadata": {
    "id": "Up2k55v7h8D4"
   },
   "source": [
    "**2.2** Check if there are any features with missing values in the data and report them. Check and report the numerical and categorical data, as well."
   ]
  },
  {
   "cell_type": "code",
   "execution_count": 30,
   "metadata": {
    "id": "NyiaW503h7mB",
    "ExecuteTime": {
     "start_time": "2023-05-24T19:05:55.269952Z",
     "end_time": "2023-05-24T19:05:55.317886Z"
    }
   },
   "outputs": [
    {
     "name": "stdout",
     "output_type": "stream",
     "text": [
      "All data:\n",
      "age               False\n",
      "workclass          True\n",
      "fnlwgt            False\n",
      "education         False\n",
      "education_num     False\n",
      "marital-status    False\n",
      "occupation         True\n",
      "relationship      False\n",
      "race              False\n",
      "sex               False\n",
      "capital-gain      False\n",
      "capital-loss      False\n",
      "hours-per-week    False\n",
      "income            False\n",
      "dtype: bool\n",
      "Numerical data:\n",
      "age               False\n",
      "fnlwgt            False\n",
      "education_num     False\n",
      "capital-gain      False\n",
      "capital-loss      False\n",
      "hours-per-week    False\n",
      "dtype: bool\n",
      "Categorical data:\n",
      "workclass          True\n",
      "education         False\n",
      "marital-status    False\n",
      "occupation         True\n",
      "relationship      False\n",
      "race              False\n",
      "sex               False\n",
      "income            False\n",
      "dtype: bool\n"
     ]
    }
   ],
   "source": [
    "# BEGIN SOLUTION\n",
    "missing = train_set.isnull().any() # for any category of data (numerical or categorical), search if there's any column(value) missing\n",
    "numeric_data = train_set.select_dtypes(include=[np.number])\n",
    "categorical_data = train_set.select_dtypes(exclude=[np.number]) # non-numeric = categorical, can also be confirmed if we remove the isnull() call and                                                                              print 'categorical_data'\n",
    "print(\"All data:\")\n",
    "print(missing)\n",
    "print(\"Numerical data:\")\n",
    "print(numeric_data.isnull().any()) # check note below\n",
    "print(\"Categorical data:\")\n",
    "print(categorical_data.isnull().any())\n",
    "# End CODE HERE"
   ]
  },
  {
   "cell_type": "markdown",
   "metadata": {
    "id": "VhHAVISNkeJF"
   },
   "source": [
    "Some values are missing from the categories 'workclass' and 'occupation'. To see all the values as missing or not missing (True or False), we can remove the any() call, and to identify the number of missing values we can call sum()."
   ]
  },
  {
   "cell_type": "markdown",
   "metadata": {
    "id": "akVGpGHDuav4"
   },
   "source": [
    "**2.3** Create your pipeline. An acceptable pipeline, should include both numerical and categorical handling."
   ]
  },
  {
   "cell_type": "code",
   "execution_count": 26,
   "metadata": {
    "id": "pv6z98huuZ6M",
    "ExecuteTime": {
     "start_time": "2023-05-24T18:57:18.287789Z",
     "end_time": "2023-05-24T18:57:18.466985Z"
    }
   },
   "outputs": [
    {
     "data": {
      "text/plain": "Pipeline(steps=[('preprocessor',\n                 ColumnTransformer(transformers=[('num',\n                                                  Pipeline(steps=[('imputer',\n                                                                   SimpleImputer(strategy='median')),\n                                                                  ('scaler',\n                                                                   StandardScaler())]),\n                                                  ['age', 'fnlwgt',\n                                                   'education_num',\n                                                   'capital-gain',\n                                                   'capital-loss',\n                                                   'hours-per-week']),\n                                                 ('one_hot_cat',\n                                                  Pipeline(steps=[('imputer',\n                                                                   SimpleImputer(strategy='most_frequent')),\n                                                                  ('encoder',\n                                                                   OneHotEncoder(handle_unknown='ignore'))]),\n                                                  ['workclass', 'education',\n                                                   'marital-status',\n                                                   'occupation', 'relationship',\n                                                   'race', 'sex'])])),\n                ('classifier',\n                 DecisionTreeClassifier(max_leaf_nodes=30, min_samples_split=10,\n                                        splitter='random'))])",
      "text/html": "<style>#sk-container-id-2 {color: black;background-color: white;}#sk-container-id-2 pre{padding: 0;}#sk-container-id-2 div.sk-toggleable {background-color: white;}#sk-container-id-2 label.sk-toggleable__label {cursor: pointer;display: block;width: 100%;margin-bottom: 0;padding: 0.3em;box-sizing: border-box;text-align: center;}#sk-container-id-2 label.sk-toggleable__label-arrow:before {content: \"▸\";float: left;margin-right: 0.25em;color: #696969;}#sk-container-id-2 label.sk-toggleable__label-arrow:hover:before {color: black;}#sk-container-id-2 div.sk-estimator:hover label.sk-toggleable__label-arrow:before {color: black;}#sk-container-id-2 div.sk-toggleable__content {max-height: 0;max-width: 0;overflow: hidden;text-align: left;background-color: #f0f8ff;}#sk-container-id-2 div.sk-toggleable__content pre {margin: 0.2em;color: black;border-radius: 0.25em;background-color: #f0f8ff;}#sk-container-id-2 input.sk-toggleable__control:checked~div.sk-toggleable__content {max-height: 200px;max-width: 100%;overflow: auto;}#sk-container-id-2 input.sk-toggleable__control:checked~label.sk-toggleable__label-arrow:before {content: \"▾\";}#sk-container-id-2 div.sk-estimator input.sk-toggleable__control:checked~label.sk-toggleable__label {background-color: #d4ebff;}#sk-container-id-2 div.sk-label input.sk-toggleable__control:checked~label.sk-toggleable__label {background-color: #d4ebff;}#sk-container-id-2 input.sk-hidden--visually {border: 0;clip: rect(1px 1px 1px 1px);clip: rect(1px, 1px, 1px, 1px);height: 1px;margin: -1px;overflow: hidden;padding: 0;position: absolute;width: 1px;}#sk-container-id-2 div.sk-estimator {font-family: monospace;background-color: #f0f8ff;border: 1px dotted black;border-radius: 0.25em;box-sizing: border-box;margin-bottom: 0.5em;}#sk-container-id-2 div.sk-estimator:hover {background-color: #d4ebff;}#sk-container-id-2 div.sk-parallel-item::after {content: \"\";width: 100%;border-bottom: 1px solid gray;flex-grow: 1;}#sk-container-id-2 div.sk-label:hover label.sk-toggleable__label {background-color: #d4ebff;}#sk-container-id-2 div.sk-serial::before {content: \"\";position: absolute;border-left: 1px solid gray;box-sizing: border-box;top: 0;bottom: 0;left: 50%;z-index: 0;}#sk-container-id-2 div.sk-serial {display: flex;flex-direction: column;align-items: center;background-color: white;padding-right: 0.2em;padding-left: 0.2em;position: relative;}#sk-container-id-2 div.sk-item {position: relative;z-index: 1;}#sk-container-id-2 div.sk-parallel {display: flex;align-items: stretch;justify-content: center;background-color: white;position: relative;}#sk-container-id-2 div.sk-item::before, #sk-container-id-2 div.sk-parallel-item::before {content: \"\";position: absolute;border-left: 1px solid gray;box-sizing: border-box;top: 0;bottom: 0;left: 50%;z-index: -1;}#sk-container-id-2 div.sk-parallel-item {display: flex;flex-direction: column;z-index: 1;position: relative;background-color: white;}#sk-container-id-2 div.sk-parallel-item:first-child::after {align-self: flex-end;width: 50%;}#sk-container-id-2 div.sk-parallel-item:last-child::after {align-self: flex-start;width: 50%;}#sk-container-id-2 div.sk-parallel-item:only-child::after {width: 0;}#sk-container-id-2 div.sk-dashed-wrapped {border: 1px dashed gray;margin: 0 0.4em 0.5em 0.4em;box-sizing: border-box;padding-bottom: 0.4em;background-color: white;}#sk-container-id-2 div.sk-label label {font-family: monospace;font-weight: bold;display: inline-block;line-height: 1.2em;}#sk-container-id-2 div.sk-label-container {text-align: center;}#sk-container-id-2 div.sk-container {/* jupyter's `normalize.less` sets `[hidden] { display: none; }` but bootstrap.min.css set `[hidden] { display: none !important; }` so we also need the `!important` here to be able to override the default hidden behavior on the sphinx rendered scikit-learn.org. See: https://github.com/scikit-learn/scikit-learn/issues/21755 */display: inline-block !important;position: relative;}#sk-container-id-2 div.sk-text-repr-fallback {display: none;}</style><div id=\"sk-container-id-2\" class=\"sk-top-container\"><div class=\"sk-text-repr-fallback\"><pre>Pipeline(steps=[(&#x27;preprocessor&#x27;,\n                 ColumnTransformer(transformers=[(&#x27;num&#x27;,\n                                                  Pipeline(steps=[(&#x27;imputer&#x27;,\n                                                                   SimpleImputer(strategy=&#x27;median&#x27;)),\n                                                                  (&#x27;scaler&#x27;,\n                                                                   StandardScaler())]),\n                                                  [&#x27;age&#x27;, &#x27;fnlwgt&#x27;,\n                                                   &#x27;education_num&#x27;,\n                                                   &#x27;capital-gain&#x27;,\n                                                   &#x27;capital-loss&#x27;,\n                                                   &#x27;hours-per-week&#x27;]),\n                                                 (&#x27;one_hot_cat&#x27;,\n                                                  Pipeline(steps=[(&#x27;imputer&#x27;,\n                                                                   SimpleImputer(strategy=&#x27;most_frequent&#x27;)),\n                                                                  (&#x27;encoder&#x27;,\n                                                                   OneHotEncoder(handle_unknown=&#x27;ignore&#x27;))]),\n                                                  [&#x27;workclass&#x27;, &#x27;education&#x27;,\n                                                   &#x27;marital-status&#x27;,\n                                                   &#x27;occupation&#x27;, &#x27;relationship&#x27;,\n                                                   &#x27;race&#x27;, &#x27;sex&#x27;])])),\n                (&#x27;classifier&#x27;,\n                 DecisionTreeClassifier(max_leaf_nodes=30, min_samples_split=10,\n                                        splitter=&#x27;random&#x27;))])</pre><b>In a Jupyter environment, please rerun this cell to show the HTML representation or trust the notebook. <br />On GitHub, the HTML representation is unable to render, please try loading this page with nbviewer.org.</b></div><div class=\"sk-container\" hidden><div class=\"sk-item sk-dashed-wrapped\"><div class=\"sk-label-container\"><div class=\"sk-label sk-toggleable\"><input class=\"sk-toggleable__control sk-hidden--visually\" id=\"sk-estimator-id-10\" type=\"checkbox\" ><label for=\"sk-estimator-id-10\" class=\"sk-toggleable__label sk-toggleable__label-arrow\">Pipeline</label><div class=\"sk-toggleable__content\"><pre>Pipeline(steps=[(&#x27;preprocessor&#x27;,\n                 ColumnTransformer(transformers=[(&#x27;num&#x27;,\n                                                  Pipeline(steps=[(&#x27;imputer&#x27;,\n                                                                   SimpleImputer(strategy=&#x27;median&#x27;)),\n                                                                  (&#x27;scaler&#x27;,\n                                                                   StandardScaler())]),\n                                                  [&#x27;age&#x27;, &#x27;fnlwgt&#x27;,\n                                                   &#x27;education_num&#x27;,\n                                                   &#x27;capital-gain&#x27;,\n                                                   &#x27;capital-loss&#x27;,\n                                                   &#x27;hours-per-week&#x27;]),\n                                                 (&#x27;one_hot_cat&#x27;,\n                                                  Pipeline(steps=[(&#x27;imputer&#x27;,\n                                                                   SimpleImputer(strategy=&#x27;most_frequent&#x27;)),\n                                                                  (&#x27;encoder&#x27;,\n                                                                   OneHotEncoder(handle_unknown=&#x27;ignore&#x27;))]),\n                                                  [&#x27;workclass&#x27;, &#x27;education&#x27;,\n                                                   &#x27;marital-status&#x27;,\n                                                   &#x27;occupation&#x27;, &#x27;relationship&#x27;,\n                                                   &#x27;race&#x27;, &#x27;sex&#x27;])])),\n                (&#x27;classifier&#x27;,\n                 DecisionTreeClassifier(max_leaf_nodes=30, min_samples_split=10,\n                                        splitter=&#x27;random&#x27;))])</pre></div></div></div><div class=\"sk-serial\"><div class=\"sk-item sk-dashed-wrapped\"><div class=\"sk-label-container\"><div class=\"sk-label sk-toggleable\"><input class=\"sk-toggleable__control sk-hidden--visually\" id=\"sk-estimator-id-11\" type=\"checkbox\" ><label for=\"sk-estimator-id-11\" class=\"sk-toggleable__label sk-toggleable__label-arrow\">preprocessor: ColumnTransformer</label><div class=\"sk-toggleable__content\"><pre>ColumnTransformer(transformers=[(&#x27;num&#x27;,\n                                 Pipeline(steps=[(&#x27;imputer&#x27;,\n                                                  SimpleImputer(strategy=&#x27;median&#x27;)),\n                                                 (&#x27;scaler&#x27;, StandardScaler())]),\n                                 [&#x27;age&#x27;, &#x27;fnlwgt&#x27;, &#x27;education_num&#x27;,\n                                  &#x27;capital-gain&#x27;, &#x27;capital-loss&#x27;,\n                                  &#x27;hours-per-week&#x27;]),\n                                (&#x27;one_hot_cat&#x27;,\n                                 Pipeline(steps=[(&#x27;imputer&#x27;,\n                                                  SimpleImputer(strategy=&#x27;most_frequent&#x27;)),\n                                                 (&#x27;encoder&#x27;,\n                                                  OneHotEncoder(handle_unknown=&#x27;ignore&#x27;))]),\n                                 [&#x27;workclass&#x27;, &#x27;education&#x27;, &#x27;marital-status&#x27;,\n                                  &#x27;occupation&#x27;, &#x27;relationship&#x27;, &#x27;race&#x27;,\n                                  &#x27;sex&#x27;])])</pre></div></div></div><div class=\"sk-parallel\"><div class=\"sk-parallel-item\"><div class=\"sk-item\"><div class=\"sk-label-container\"><div class=\"sk-label sk-toggleable\"><input class=\"sk-toggleable__control sk-hidden--visually\" id=\"sk-estimator-id-12\" type=\"checkbox\" ><label for=\"sk-estimator-id-12\" class=\"sk-toggleable__label sk-toggleable__label-arrow\">num</label><div class=\"sk-toggleable__content\"><pre>[&#x27;age&#x27;, &#x27;fnlwgt&#x27;, &#x27;education_num&#x27;, &#x27;capital-gain&#x27;, &#x27;capital-loss&#x27;, &#x27;hours-per-week&#x27;]</pre></div></div></div><div class=\"sk-serial\"><div class=\"sk-item\"><div class=\"sk-serial\"><div class=\"sk-item\"><div class=\"sk-estimator sk-toggleable\"><input class=\"sk-toggleable__control sk-hidden--visually\" id=\"sk-estimator-id-13\" type=\"checkbox\" ><label for=\"sk-estimator-id-13\" class=\"sk-toggleable__label sk-toggleable__label-arrow\">SimpleImputer</label><div class=\"sk-toggleable__content\"><pre>SimpleImputer(strategy=&#x27;median&#x27;)</pre></div></div></div><div class=\"sk-item\"><div class=\"sk-estimator sk-toggleable\"><input class=\"sk-toggleable__control sk-hidden--visually\" id=\"sk-estimator-id-14\" type=\"checkbox\" ><label for=\"sk-estimator-id-14\" class=\"sk-toggleable__label sk-toggleable__label-arrow\">StandardScaler</label><div class=\"sk-toggleable__content\"><pre>StandardScaler()</pre></div></div></div></div></div></div></div></div><div class=\"sk-parallel-item\"><div class=\"sk-item\"><div class=\"sk-label-container\"><div class=\"sk-label sk-toggleable\"><input class=\"sk-toggleable__control sk-hidden--visually\" id=\"sk-estimator-id-15\" type=\"checkbox\" ><label for=\"sk-estimator-id-15\" class=\"sk-toggleable__label sk-toggleable__label-arrow\">one_hot_cat</label><div class=\"sk-toggleable__content\"><pre>[&#x27;workclass&#x27;, &#x27;education&#x27;, &#x27;marital-status&#x27;, &#x27;occupation&#x27;, &#x27;relationship&#x27;, &#x27;race&#x27;, &#x27;sex&#x27;]</pre></div></div></div><div class=\"sk-serial\"><div class=\"sk-item\"><div class=\"sk-serial\"><div class=\"sk-item\"><div class=\"sk-estimator sk-toggleable\"><input class=\"sk-toggleable__control sk-hidden--visually\" id=\"sk-estimator-id-16\" type=\"checkbox\" ><label for=\"sk-estimator-id-16\" class=\"sk-toggleable__label sk-toggleable__label-arrow\">SimpleImputer</label><div class=\"sk-toggleable__content\"><pre>SimpleImputer(strategy=&#x27;most_frequent&#x27;)</pre></div></div></div><div class=\"sk-item\"><div class=\"sk-estimator sk-toggleable\"><input class=\"sk-toggleable__control sk-hidden--visually\" id=\"sk-estimator-id-17\" type=\"checkbox\" ><label for=\"sk-estimator-id-17\" class=\"sk-toggleable__label sk-toggleable__label-arrow\">OneHotEncoder</label><div class=\"sk-toggleable__content\"><pre>OneHotEncoder(handle_unknown=&#x27;ignore&#x27;)</pre></div></div></div></div></div></div></div></div></div></div><div class=\"sk-item\"><div class=\"sk-estimator sk-toggleable\"><input class=\"sk-toggleable__control sk-hidden--visually\" id=\"sk-estimator-id-18\" type=\"checkbox\" ><label for=\"sk-estimator-id-18\" class=\"sk-toggleable__label sk-toggleable__label-arrow\">DecisionTreeClassifier</label><div class=\"sk-toggleable__content\"><pre>DecisionTreeClassifier(max_leaf_nodes=30, min_samples_split=10,\n                       splitter=&#x27;random&#x27;)</pre></div></div></div></div></div></div></div>"
     },
     "execution_count": 26,
     "metadata": {},
     "output_type": "execute_result"
    }
   ],
   "source": [
    "from sklearn.preprocessing import StandardScaler\n",
    "\n",
    "# BEGIN SOLUTION\n",
    "\n",
    "# your pipeline!\n",
    "numeric_features = ['age', 'fnlwgt', 'education_num', 'capital-gain', 'capital-loss', 'hours-per-week']\n",
    "numeric_transformer = Pipeline(\n",
    "    steps=[\n",
    "        (\"imputer\", SimpleImputer(strategy=\"median\")), # we can skip this step as there are no numerical values missing\n",
    "        ('scaler', StandardScaler()), # ensures that the features have a comparable scale\n",
    "    ]\n",
    ")\n",
    "\n",
    "categorical_features = ['workclass', 'education', 'marital-status', 'occupation', 'relationship', 'race', 'sex'] # without income as it is our target\n",
    "categorical_transformer = Pipeline(\n",
    "    steps=[\n",
    "        (\"imputer\", SimpleImputer(strategy=\"most_frequent\")),\n",
    "        (\"encoder\", OneHotEncoder(handle_unknown=\"ignore\")),\n",
    "    ]\n",
    ")\n",
    "\n",
    "preprocessor = ColumnTransformer(\n",
    "    transformers=[\n",
    "        (\"num\", numeric_transformer, numeric_features),\n",
    "        (\"one_hot_cat\", categorical_transformer, categorical_features),\n",
    "    ]\n",
    ")\n",
    "\n",
    "clf = Pipeline(\n",
    "    steps=[(\"preprocessor\", preprocessor), (\"classifier\", DecisionTreeClassifier(criterion='gini', max_leaf_nodes=30, min_samples_split=10, splitter='random'))]\n",
    ")\n",
    "\n",
    "# train the pipeline\n",
    "clf.fit(train_set, y_train)\n",
    "# print(train_set['occupation']), print a transformed category to confirm that all the transformations happened internally in the pipeline\n",
    "# End CODE HERE"
   ]
  },
  {
   "cell_type": "markdown",
   "metadata": {
    "id": "cpM9JAn-irMh"
   },
   "source": [
    "**2.4** Evaluate the pipeline's performance, without tuning!"
   ]
  },
  {
   "cell_type": "code",
   "execution_count": 24,
   "metadata": {
    "id": "3uaArYmQvKcf",
    "ExecuteTime": {
     "start_time": "2023-05-24T18:53:00.796960Z",
     "end_time": "2023-05-24T18:53:00.944068Z"
    }
   },
   "outputs": [
    {
     "name": "stdout",
     "output_type": "stream",
     "text": [
      "Model score Accuracy: 0.841\n",
      "Model score F1 Weighted: 0.834\n"
     ]
    }
   ],
   "source": [
    "# BEGIN SOLUTION\n",
    "y_predict = clf.predict(test_set)\n",
    "# End CODE HERE\n",
    "print(\"Model score Accuracy: %.3f\" % accuracy_score(y_test,y_predict))\n",
    "print(\"Model score F1 Weighted: %.3f\" % f1_score(y_test,y_predict,average='weighted'))"
   ]
  },
  {
   "cell_type": "markdown",
   "metadata": {
    "id": "Zz_MWnYY2r3-"
   },
   "source": [
    "**2.5** Perform a gooood grid search to find the best parameters for your pipeline. Both GridSearchCV and RandomizedSearchCV are acceptable"
   ]
  },
  {
   "cell_type": "code",
   "execution_count": 25,
   "metadata": {
    "deletable": false,
    "id": "RNECyUFtnyDf",
    "nbgrader": {
     "cell_type": "code",
     "checksum": "152ab2dd6861b198b879a78ebadc4ee4",
     "grade": true,
     "grade_id": "cell-dd950ab2eb40d8a4",
     "locked": false,
     "points": 45,
     "schema_version": 3,
     "solution": true,
     "task": false
    },
    "ExecuteTime": {
     "start_time": "2023-05-24T18:53:12.173536Z",
     "end_time": "2023-05-24T18:57:18.309579Z"
    }
   },
   "outputs": [
    {
     "name": "stdout",
     "output_type": "stream",
     "text": [
      "Best params:\n",
      "{'classifier__criterion': 'gini', 'classifier__max_depth': 25, 'classifier__max_leaf_nodes': 100, 'classifier__min_samples_leaf': 1, 'classifier__splitter': 'best', 'preprocessor__num__imputer__strategy': 'mean'}\n"
     ]
    }
   ],
   "source": [
    "from sklearn.model_selection import GridSearchCV\n",
    "\n",
    "param_grid = {\n",
    "    \"preprocessor__num__imputer__strategy\": [\"mean\", \"median\"],\n",
    "    \"classifier__criterion\": [\"gini\",\"entropy\"],\n",
    "    \"classifier__min_samples_leaf\": [1, 10, 20, 50],\n",
    "    \"classifier__max_depth\": [10, 25, 50, 100],\n",
    "    \"classifier__max_leaf_nodes\": [10, 50, 100, 150, 300],\n",
    "    \"classifier__splitter\": [\"best\", \"random\"]\n",
    "}\n",
    "\n",
    "grid_search = GridSearchCV(clf, param_grid, cv=5, n_jobs=4) # run tasks in parallel to speed up the process and not exhaust the CPU\n",
    "grid_search.fit(train_set, y_train)\n",
    "\n",
    "print(\"Best params:\")\n",
    "print(grid_search.best_params_)"
   ]
  },
  {
   "cell_type": "markdown",
   "metadata": {
    "id": "-AJbfAjPjGQZ"
   },
   "source": [
    "**2.6** Evaluate the best model's performance."
   ]
  },
  {
   "cell_type": "code",
   "execution_count": 27,
   "metadata": {
    "id": "OhE0haFuw57D",
    "ExecuteTime": {
     "start_time": "2023-05-24T18:57:40.914516Z",
     "end_time": "2023-05-24T18:57:41.055974Z"
    }
   },
   "outputs": [
    {
     "name": "stdout",
     "output_type": "stream",
     "text": [
      "Model score Accuracy: 0.857\n",
      "Model score F1 Weighted: 0.853\n"
     ]
    }
   ],
   "source": [
    "# BEGIN SOLUTION\n",
    "# perform the prediction to the test set\n",
    "best_estimator = grid_search.best_estimator_\n",
    "\n",
    "y_predict = best_estimator.predict(test_set)\n",
    "\n",
    "# End CODE HERE\n",
    "print(\"Model score Accuracy: %.3f\" % accuracy_score(y_test,y_predict))\n",
    "print(\"Model score F1 Weighted: %.3f\" % f1_score(y_test,y_predict,average='weighted'))"
   ]
  },
  {
   "cell_type": "markdown",
   "metadata": {
    "id": "QNf3cyeNj3S1"
   },
   "source": [
    "**2.7** Evaluate your model using at least three different evaluation metrics (note1: except accuracy and weighted f1 score, note2: do not use more than once a variation of f1)."
   ]
  },
  {
   "cell_type": "code",
   "execution_count": 28,
   "metadata": {
    "id": "4jvG4qqikH9a",
    "ExecuteTime": {
     "start_time": "2023-05-24T18:57:47.501607Z",
     "end_time": "2023-05-24T18:57:47.542424Z"
    }
   },
   "outputs": [],
   "source": [
    "# BEGIN SOLUTION\n",
    "from sklearn.metrics import average_precision_score, recall_score, roc_auc_score, balanced_accuracy_score\n",
    "\n",
    "# define the mapping dictionary\n",
    "label_mapping = {'<=50K': 0, '>50K': 1}\n",
    "\n",
    "# apply the mapping to convert to numerical values\n",
    "y_test_num = y_test.map(label_mapping)\n",
    "mapping_func = np.vectorize(label_mapping.get)\n",
    "y_predict_num = mapping_func(y_predict)\n",
    "# print(y_test_num)\n",
    "# print(y_predict_num)\n",
    "\n",
    "# metrics for classification\n",
    "metric1 = recall_score(y_test_num, y_predict_num)\n",
    "metric2 = roc_auc_score(y_test_num, y_predict_num)\n",
    "metric3 = average_precision_score(y_test_num, y_predict_num)\n",
    "metric4 = balanced_accuracy_score(y_test_num, y_predict_num)\n",
    "#END CODE HERE"
   ]
  },
  {
   "cell_type": "code",
   "execution_count": 29,
   "metadata": {
    "id": "NjOJpA3cuKhm",
    "ExecuteTime": {
     "start_time": "2023-05-24T18:57:51.706197Z",
     "end_time": "2023-05-24T18:57:51.756520Z"
    }
   },
   "outputs": [
    {
     "name": "stdout",
     "output_type": "stream",
     "text": [
      "Model score Recall: 0.631\n",
      "Model score ROC AUC: 0.781\n",
      "Model score Average Precision: 0.564\n",
      "Model score Balanced Accuracy: 0.781\n"
     ]
    }
   ],
   "source": [
    "print(\"Model score Recall: %.3f\" % metric1)\n",
    "print(\"Model score ROC AUC: %.3f\" % metric2)\n",
    "print(\"Model score Average Precision: %.3f\" % metric3)\n",
    "print(\"Model score Balanced Accuracy: %.3f\" % metric4)"
   ]
  },
  {
   "attachments": {},
   "cell_type": "markdown",
   "metadata": {
    "deletable": false,
    "editable": false,
    "id": "f_lIQ1-wnyDg",
    "nbgrader": {
     "cell_type": "markdown",
     "checksum": "ee9d4c2635307395bdef2efb941106ae",
     "grade": false,
     "grade_id": "cell-2c3327274958bbad",
     "locked": true,
     "schema_version": 3,
     "solution": false,
     "task": false
    }
   },
   "source": [
    "**2.8** Describe the process you followed to achieve the results above. Your description should include, but is not limited to the following \n",
    "- How do you handle missing values and why\n",
    "- How do you handle categorical variables and why\n",
    "- Any further preprocessing steps\n",
    "- How do you evaluate your model and how did you choose its parameters \n",
    "- Report any additional results and comments on your approach.\n",
    "\n",
    "You should achieve at least 85% accuracy score and 84% f1 score."
   ]
  },
  {
   "cell_type": "markdown",
   "metadata": {
    "deletable": false,
    "id": "76FF0gYVnyDh",
    "nbgrader": {
     "cell_type": "markdown",
     "checksum": "1aaf3ddda45b52c2e43089b082d030f1",
     "grade": true,
     "grade_id": "cell-80274fd09b80518c",
     "locked": false,
     "points": 20,
     "schema_version": 3,
     "solution": true,
     "task": false
    }
   },
   "source": [
    "- As we observed from the output of cell 2.2, there are no numerical data missing. However, in the pipeline an imputer is used in case we hadn't checked that prior to the pipeline's implementation, adding extra unnecessary steps to the pipeline. The strategy that we would otherwise prefer is the 'median' one, as if there's a great deviance in the data/answers on these numerical categories, the median value will be more representative and if not, which is probably our case, the median value will not vary largely from the mean value. On the missing values of the categorical data, they're filled with the most frequent value of the particular category, which would be the safest assumption to make.\n",
    "- Categorical variables are to be passed through a pipeline which fills the missing positions and converts the data to numeric representations. Since the categories are not in any particular order and are not correlated, we prefer the One-Hot encoding technique to basic integer encoding.\n",
    "- ColumnTransformer is a part of the overall pipeline and will be responsible for applying the aforementioned pipelines to the equivalent columns of the database, altering their content accordingly before the final step of the pipeline, which would be to create a decision tree classifier. This tree classifier is later used to fit the model with the transformed input data, without actually transforming the initial set (which fit_transform does). So the preprocessor pipeline concludes the handling of the data before the fitting of the model.\n",
    "- The overall evaluation of the model is based on its accuracy and its F1 score, the latter of which also combines another two evaluation methods, prediction and recall. In order to avoid manual hyperparameter tuning which is timely and not as efficient as an automated procedure, we rely on a grid search to identify the best combination of some pipeline parameters values that produces the greater evaluation scores.\n",
    "- Evaluation methods and analysis:\n",
    "    -  Accuracy: The model correctly predicted the class for approximately 85.7% of the samples\n",
    "    -  F1 Score (weighted): Its value(0.853) indicates good overall performance\n",
    "    -  Recall: The model correctly identified approximately 63.1% of the positive instances.\n",
    "    -  ROC AUC: Adequate true positive rate to false positive rate ratio\n",
    "    -  Balanced Accuracy and Average Precision: Precision-recall balance is relatively low.\n",
    "\n",
    "  All the metrics except for Accuracy and F1 scores focus on the measurements related to the positive class, so they should constitute the main methods of evaluation in case we're interested in classifying correctly the samples that should be attributed to income > 50K."
   ]
  },
  {
   "cell_type": "markdown",
   "metadata": {
    "deletable": false,
    "editable": false,
    "id": "WCN7E_ctnyDu",
    "nbgrader": {
     "cell_type": "markdown",
     "checksum": "747645b33cb4f5c14796504fac6bf3ce",
     "grade": false,
     "grade_id": "cell-89715acd6c51b332",
     "locked": true,
     "schema_version": 3,
     "solution": false,
     "task": false
    }
   },
   "source": [
    "**Bonus Question:** Did you like this assignment? Please provide your feedback."
   ]
  },
  {
   "cell_type": "markdown",
   "metadata": {
    "deletable": false,
    "id": "ZyG7hhbFnyDx",
    "nbgrader": {
     "cell_type": "markdown",
     "checksum": "b26041c1723d2858ad0833f8985801db",
     "grade": true,
     "grade_id": "cell-c99ca88f33f3717c",
     "locked": false,
     "points": 5,
     "schema_version": 3,
     "solution": true,
     "task": false
    }
   },
   "source": [
    "It was really fun and encouraged me to go through the documentation to look for each function's utility and arguments. Also, it didn't diverge greatly from the exercises that were demonstrated in class. I really enjoyed the critical thinking questions as they helped me understand the procedures followed and what the acquired results signified for the model's performance."
   ]
  },
  {
   "cell_type": "code",
   "execution_count": null,
   "outputs": [],
   "source": [],
   "metadata": {
    "collapsed": false
   }
  }
 ],
 "metadata": {
  "colab": {
   "provenance": []
  },
  "kernelspec": {
   "display_name": "Python 3",
   "language": "python",
   "name": "python3"
  },
  "language_info": {
   "codemirror_mode": {
    "name": "ipython",
    "version": 3
   },
   "file_extension": ".py",
   "mimetype": "text/x-python",
   "name": "python",
   "nbconvert_exporter": "python",
   "pygments_lexer": "ipython3",
   "version": "3.8.9"
  },
  "pycharm": {
   "stem_cell": {
    "cell_type": "raw",
    "metadata": {
     "collapsed": false
    },
    "source": []
   }
  },
  "vscode": {
   "interpreter": {
    "hash": "31f2aee4e71d21fbe5cf8b01ff0e069b9275f58929596ceb00d14d90e3e16cd6"
   }
  }
 },
 "nbformat": 4,
 "nbformat_minor": 0
}
